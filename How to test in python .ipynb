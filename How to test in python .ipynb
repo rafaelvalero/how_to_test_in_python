{
 "cells": [
  {
   "cell_type": "markdown",
   "metadata": {},
   "source": [
    "# How to test in python \n",
    "\n",
    "Rafael Valero Fernandez\n",
    "rafaelvalerofernandez@gmail.com\n",
    "https://sites.google.com/site/rafaelvalerofernandez/\n",
    "\n",
    "## Motivation\n",
    "\n",
    "I want to have a little cheatsheet and overview for testing procedures.\n",
    "I focus in two procedures Doctest and Unittest.\n",
    "\n",
    "### Why to test?\n",
    "\n",
    "\"Goal of python unit testing is to detect as many bugs and inconsistencies in the infancy of the application development as possible. This is achieved by designing and scripting accurate and quality unit tests that can also serve as detailed documentation for the development process. This ensures that bugs and other problems we catch in the first stages of the development, can be fixed by the development team.\" From  http://quintagroup.com/cms/python/python-unit-testing.\n",
    "\n",
    "### Conclusions\n",
    "1. Test help us to code better, securer and faster.\n",
    "2. Doctest allows to introduce simple tests in the documentation."
   ]
  },
  {
   "cell_type": "markdown",
   "metadata": {},
   "source": [
    "## Doctest\n",
    "\n",
    "Doctest allows to introduce testing in a very simple way in the very same documentation of the function, for example: \n",
    "``` \n",
    "    >>> my_function(2,3)\n",
    "    6\n",
    "```\n",
    "where after `>>>` you introduce and example, here `my_function(2,3)` and in the next line the expected output, here `6`. Bellow this example will be workd with more detail.\n",
    "\n",
    "The basic idea is that **doctest will allow us to introduce simple tests in the documentation**.\n",
    "\n",
    "Further readings: http://pythontesting.net/framework/doctest/doctest-introduction/ \n",
    "\n",
    "**test.py:**"
   ]
  },
  {
   "cell_type": "code",
   "execution_count": 1,
   "metadata": {
    "collapsed": true
   },
   "outputs": [],
   "source": [
    "def my_function(a,b):\n",
    "    \"\"\"\n",
    "    This example comes from:\n",
    "    https://www.youtube.com/watch?v=L8EcFqpX-Lk\n",
    "    \n",
    "    >>> my_function(2,3)\n",
    "    6\n",
    "    >>> my_function('a',3)\n",
    "    'aaa'\n",
    "    \"\"\"\n",
    "    return a*b\n"
   ]
  },
  {
   "cell_type": "markdown",
   "metadata": {},
   "source": [
    "After `my_function` is defined and we introduce the test we want to run in the string line we test using doctest:"
   ]
  },
  {
   "cell_type": "code",
   "execution_count": 2,
   "metadata": {
    "collapsed": false,
    "scrolled": true
   },
   "outputs": [
    {
     "name": "stdout",
     "output_type": "stream",
     "text": [
      "Finding tests in NoName\n",
      "Trying:\n",
      "    my_function(2,3)\n",
      "Expecting:\n",
      "    6\n",
      "ok\n",
      "Trying:\n",
      "    my_function('a',3)\n",
      "Expecting:\n",
      "    'aaa'\n",
      "ok\n"
     ]
    }
   ],
   "source": [
    "import doctest\n",
    "doctest.run_docstring_examples(my_function, globals(),verbose=True)\n",
    "# Reference, to use doctest in Jupyter notebooks:\n",
    "# https://stackoverflow.com/questions/40137950/possible-to-run-python-doctest-on-a-jupyter-cell-function"
   ]
  },
  {
   "cell_type": "markdown",
   "metadata": {},
   "source": [
    "You can also run the code in the shell (as here https://www.youtube.com/watch?v=L8EcFqpX-Lk).\n",
    "For example:\n",
    "Function my_function is in a python file named test.py, then you can write in the terminal: `python -m doctest -v test.py`"
   ]
  },
  {
   "cell_type": "markdown",
   "metadata": {},
   "source": [
    "### References\n",
    "#### Doctest\n",
    "Written: \n",
    "\n",
    "1.  Sort example and comparison with othen testing procedures: http://docs.python-guide.org/en/latest/writing/tests/\n",
    "2. doctest documentation: https://docs.python.org/3/library/doctest.html#module-doctest \n",
    "3. Comparison and examples between Unittes and Doctest: https://code.tutsplus.com/tutorials/write-professional-unit-tests-in-python--cms-25835\n",
    "\n",
    "Videos:\n",
    "\n",
    "1. Sort example from where I borrow example: https://www.youtube.com/watch?v=L8EcFqpX-Lk"
   ]
  },
  {
   "cell_type": "markdown",
   "metadata": {},
   "source": [
    "## Unittest\n",
    "\n",
    "The standard workflow is:\n",
    "1. You define your own class derived from unittest.TestCase.\n",
    "2. Then you fill it with functions that start with ‘test_’.\n",
    "3. You run the tests by placing unittest.main() in your file, usually at the bottom.\n",
    "\n",
    "\n",
    "\n",
    "Further readings: http://pythontesting.net/framework/unittest/unittest-introduction/\n",
    "\n",
    "For this section I borrow the examples from the first bit of https://www.youtube.com/watch?v=6tNS--WetLI\n",
    "\n",
    "We need something to test, for example, **calc.py**:\n",
    "\n",
    "```\n",
    "# From https://github.com/CoreyMSchafer/code_snippets/blob/master/Python-Unit-Testing/calc.py\n",
    "# With some modifications.\n",
    "\n",
    "def add(x, y):\n",
    "    \"\"\"Add Function\"\"\"\n",
    "    return x + y\n",
    "\n",
    "\n",
    "def subtract(x, y):\n",
    "    \"\"\"Subtract Function\"\"\"\n",
    "    return x - y\n",
    "\n",
    "\n",
    "def multiply(x, y):\n",
    "    \"\"\"Multiply Function\"\"\"\n",
    "    return x * y\n",
    "\n",
    "\n",
    "def divide(x, y):\n",
    "    \"\"\"Divide Function\"\"\"\n",
    "    if y == 0:\n",
    "        raise ValueError('Can not divide by zero!')\n",
    "    #return float(x) / float(y)\n",
    "    return x / y # That will give us a failure in the test: self.assertEqual(calc.divide(5, 2), 2.5)\n",
    "```\n",
    "\n",
    "And we will test the previous logits by using some tests which are in file: **test_calc.py**\n",
    "\n",
    "```\n",
    "# from https://github.com/CoreyMSchafer/code_snippets/blob/master/Python-Unit-Testing/test_calc.py\n",
    "# With some modifications.\n",
    "\n",
    "import unittest\n",
    "import calc\n",
    "\n",
    "\n",
    "class TestCalc(unittest.TestCase):\n",
    "\n",
    "    def test_add(self):\n",
    "        self.assertEqual(calc.add(10, 5), 15)\n",
    "        self.assertEqual(calc.add(-1, 1), 0)\n",
    "        self.assertEqual(calc.add(-1, -1), -2)\n",
    "\n",
    "    def test_subtract(self):\n",
    "        self.assertEqual(calc.subtract(10, 5), 5)\n",
    "        self.assertEqual(calc.subtract(-1, 1), -2)\n",
    "        self.assertEqual(calc.subtract(-1, -1), 0)\n",
    "\n",
    "    def test_multiply(self):\n",
    "        self.assertEqual(calc.multiply(10, 5), 50)\n",
    "        self.assertEqual(calc.multiply(-1, 1), -1)\n",
    "        self.assertEqual(calc.multiply(-1, -1), 1)\n",
    "\n",
    "    def test_divide(self):\n",
    "        self.assertEqual(calc.divide(10, 5), 2)\n",
    "        self.assertEqual(calc.divide(-1, 1), -1)\n",
    "        self.assertEqual(calc.divide(-1, -1), 1)\n",
    "        self.assertEqual(calc.divide(5, 2), 2.5)\n",
    "\n",
    "        with self.assertRaises(ValueError):\n",
    "            calc.divide(10, 0)\n",
    "\n",
    "\n",
    "if __name__ == '__main__':\n",
    "    # When run this module directly then run the code within the conditional\n",
    "    unittest.main()\n",
    "    # This run all the tests\n",
    "    # So we can run this code from the editor too.\n",
    "\n",
    "```\n",
    "\n",
    "Which results is (after running it in the command line:  `python test_calc.py`\n",
    "```\n",
    "....\n",
    "----------------------------------------------------------------------\n",
    "Ran 4 tests in 0.000s\n",
    "```\n"
   ]
  },
  {
   "cell_type": "code",
   "execution_count": null,
   "metadata": {
    "collapsed": false
   },
   "outputs": [],
   "source": []
  },
  {
   "cell_type": "markdown",
   "metadata": {},
   "source": [
    "### References\n",
    "#### Unittest\n",
    "Written: \n",
    "\n",
    "1. Sort example and comparison with othen testing procedures: http://docs.python-guide.org/en/latest/writing/tests/\n",
    "3. Comparison and examples between Unittes and Doctest: https://code.tutsplus.com/tutorials/write-professional-unit-tests-in-python--cms-25835\n",
    "\n",
    "Videos:\n",
    "\n",
    "1. From where I borrow example: https://www.youtube.com/watch?v=6tNS--WetLI"
   ]
  },
  {
   "cell_type": "code",
   "execution_count": null,
   "metadata": {
    "collapsed": false
   },
   "outputs": [],
   "source": []
  },
  {
   "cell_type": "code",
   "execution_count": null,
   "metadata": {
    "collapsed": true
   },
   "outputs": [],
   "source": []
  }
 ],
 "metadata": {
  "anaconda-cloud": {},
  "kernelspec": {
   "display_name": "Python [conda root]",
   "language": "python",
   "name": "conda-root-py"
  },
  "language_info": {
   "codemirror_mode": {
    "name": "ipython",
    "version": 2
   },
   "file_extension": ".py",
   "mimetype": "text/x-python",
   "name": "python",
   "nbconvert_exporter": "python",
   "pygments_lexer": "ipython2",
   "version": "2.7.12"
  }
 },
 "nbformat": 4,
 "nbformat_minor": 1
}
